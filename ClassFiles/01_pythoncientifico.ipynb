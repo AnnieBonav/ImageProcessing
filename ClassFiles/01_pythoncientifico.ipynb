{
 "cells": [
  {
   "cell_type": "markdown",
   "metadata": {},
   "source": [
    "# Tarea 1: Python en el ámbito científico"
   ]
  },
  {
   "cell_type": "markdown",
   "metadata": {},
   "source": [
    "- **Facilitador**: [Mario Abarca](mario.abarca@uaem.edu.mx)\n",
    "- **Sujeto de aprendizaje**: [<!--Añadir nombre-->](<!-- Correo oficial -->)\n",
    "\n",
    "*Doble clic aquí para editar esta celda y colocar nombre y correo electrónico.*"
   ]
  },
  {
   "cell_type": "markdown",
   "metadata": {},
   "source": [
    "**NOTA**: Esta tarea cuenta con un sistema de evaluación automática que podrás\n",
    "encontrar al final del documento.\n",
    "El sistema de evaluación es muy estricto en cuanto al formato de la respuesta,\n",
    "por lo que es importante que escribas la respuesta exactamente como se te pide."
   ]
  },
  {
   "cell_type": "code",
   "execution_count": 15,
   "metadata": {},
   "outputs": [
    {
     "name": "stdout",
     "output_type": "stream",
     "text": [
      "zsh:1: command not found: pipenv\n"
     ]
    }
   ],
   "source": [
    "# Primero nos aseguramos de que las dependencias estén al día.\n",
    "!cd .. && pipenv sync --dev"
   ]
  },
  {
   "cell_type": "code",
   "execution_count": 16,
   "metadata": {},
   "outputs": [],
   "source": [
    "import hashlib\n",
    "import unittest\n",
    "\n",
    "import matplotlib.pyplot as plt\n",
    "import numpy as np"
   ]
  },
  {
   "cell_type": "markdown",
   "metadata": {},
   "source": [
    "## 1. Uso de Jupyter"
   ]
  },
  {
   "cell_type": "markdown",
   "metadata": {},
   "source": [
    "### Ejercicio 1.1"
   ]
  },
  {
   "cell_type": "markdown",
   "metadata": {},
   "source": [
    "Busca la web oficial de la documentación de Jupyter y asigna la dirección a la\n",
    "variable `respuesta_1_1`.\n",
    "Escribe solamente la dirección web sin protocolo ni subdirectorio; por ejemplo,\n",
    "si la dirección es `https://www.ejemplo.com/documentacion`, entonces el valor\n",
    "de la variable será `\"www.ejemplo.com\"`."
   ]
  },
  {
   "cell_type": "code",
   "execution_count": 17,
   "metadata": {},
   "outputs": [],
   "source": [
    "respuesta_1_1 = \"docs.jupyter.org\"  # Sustituye esta cadena con la respuesta correcta\n",
    "\n",
    "# test_respuesta_1_1 (__main__.TestTarea.test_respuesta_1_1)\n",
    "# Verificando la respuesta 1-1 ... FAIL"
   ]
  },
  {
   "cell_type": "markdown",
   "metadata": {},
   "source": [
    "### Ejercicio 1.2"
   ]
  },
  {
   "cell_type": "markdown",
   "metadata": {},
   "source": [
    "Como mencionamos en clase, puedes ejecutar sentencias de la terminal\n",
    "directamente desde Jupyter si antepones el signo de exclamación `!`.\n",
    "Por ejemplo, si quieres ver la versión de Python que estás usando, puedes\n",
    "ejecutar `!python --version`."
   ]
  },
  {
   "cell_type": "code",
   "execution_count": 18,
   "metadata": {},
   "outputs": [
    {
     "name": "stdout",
     "output_type": "stream",
     "text": [
      "Python 3.11.7\n"
     ]
    }
   ],
   "source": [
    "!python --version"
   ]
  },
  {
   "cell_type": "markdown",
   "metadata": {},
   "source": [
    "Navega en el sitio web de la documentación de Jupyter hacia *Usage* → *The\n",
    "jupyter Command*.\n",
    "Ahí se explica cómo ejecutar Jupyter desde la línea de comandos.\n",
    "Ejecuta el comando que te permite mostrar información de ayuda sobre el\n",
    "comando `jupyter` a continuación"
   ]
  },
  {
   "cell_type": "code",
   "execution_count": 19,
   "metadata": {},
   "outputs": [
    {
     "name": "stdout",
     "output_type": "stream",
     "text": [
      "Darwin\n"
     ]
    },
    {
     "name": "stdout",
     "output_type": "stream",
     "text": [
      "\n",
      "jupyter notebook info\n"
     ]
    },
    {
     "name": "stdout",
     "output_type": "stream",
     "text": [
      "\u001b[0;31mDocstring:\u001b[0m\n",
      "::\n",
      "\n",
      "  %notebook filename\n",
      "\n",
      "Export and convert IPython notebooks.\n",
      "\n",
      "This function can export the current IPython history to a notebook file.\n",
      "For example, to export the history to \"foo.ipynb\" do \"%notebook foo.ipynb\".\n",
      "\n",
      "positional arguments:\n",
      "  filename  Notebook name or filename\n",
      "\u001b[0;31mFile:\u001b[0m      ~/anaconda3/envs/ImageProcessing/lib/python3.11/site-packages/IPython/core/magics/basic.py"
     ]
    }
   ],
   "source": [
    "# Cambia la siguiente línea para que muestre la ayuda de Jupyter.\n",
    "!uname\n",
    "print(\"\\njupyter notebook info\")\n",
    "jupyter-notebook?"
   ]
  },
  {
   "cell_type": "code",
   "execution_count": 20,
   "metadata": {},
   "outputs": [
    {
     "name": "stdout",
     "output_type": "stream",
     "text": [
      "\n",
      "Debug info\n",
      "usage: jupyter [-h] [--version] [--config-dir] [--data-dir] [--runtime-dir]\n",
      "               [--paths] [--json] [--debug]\n",
      "               [subcommand]\n",
      "\n",
      "Jupyter: Interactive Computing\n",
      "\n",
      "positional arguments:\n",
      "  subcommand     the subcommand to launch\n",
      "\n",
      "options:\n",
      "  -h, --help     show this help message and exit\n",
      "  --version      show the versions of core jupyter packages and exit\n",
      "  --config-dir   show Jupyter config dir\n",
      "  --data-dir     show Jupyter data dir\n",
      "  --runtime-dir  show Jupyter runtime dir\n",
      "  --paths        show all Jupyter paths. Add --json for machine-readable\n",
      "                 format.\n",
      "  --json         output paths as machine-readable json\n",
      "  --debug        output debug information about paths\n",
      "\n",
      "Available subcommands: dejavu events execute kernel kernelspec lab\n",
      "labextension labhub migrate nbconvert notebook run server troubleshoot trust\n"
     ]
    }
   ],
   "source": [
    "import hashlib\n",
    "print(\"\\nDebug info\")\n",
    "# !jupyter-notebook --debug?\n",
    "# %--debug!\n",
    "# jupyter-notebook --debug?\n",
    "\n",
    "! jupyter -h"
   ]
  },
  {
   "cell_type": "markdown",
   "metadata": {},
   "source": [
    "Según el mensaje de ayuda, ¿cuál es, *textualmente*, la descripción de la opción\n",
    "`--debug`?"
   ]
  },
  {
   "cell_type": "code",
   "execution_count": 21,
   "metadata": {},
   "outputs": [],
   "source": [
    "respuesta_1_2 = \"--debug permite poder debuggear el notebook de dos formas, una es con breakpoints (para ver el código antes de que se ejecute algo) y la otra es para ver después de que una excepción ocurra\"\n",
    "respuesta_1_2 = \"output debug information about paths\""
   ]
  },
  {
   "cell_type": "markdown",
   "metadata": {},
   "source": [
    "### Ejercicio 1.3"
   ]
  },
  {
   "cell_type": "markdown",
   "metadata": {},
   "source": [
    "A continuación te presento una pregunta de relacionar columnas, pero al estilo\n",
    "de Python.\n",
    "Se te proporcionará una lista de opciones como esta:\n",
    "\n",
    "- **a**. este\n",
    "- **b**. es\n",
    "- **c**. un\n",
    "- **d**. ejemplo\n",
    "\n",
    "Deberás llenar la variable con un diccionario que asigne a cada llave la letra\n",
    "de la opción correspondiente.\n",
    "\n",
    "<!-- Este es un ejemplo de respuesta; no lo modifiques. -->\n",
    "```python\n",
    "respuesta = {\n",
    "    \"adjetivo\": \"c\",\n",
    "    \"sustantivo\": \"d\",\n",
    "    \"verbo\": \"b\",\n",
    "    \"pronombre\": \"a\"\n",
    "}\n",
    "```"
   ]
  },
  {
   "cell_type": "markdown",
   "metadata": {},
   "source": [
    "Relaciona las siguientes descripciones con su módulo correspondiente en Python.\n",
    "\n",
    "- **a**. <s>Proporciona estructuras de datos y herramientas para el análisis de\n",
    "  datos tabulados.</s>\n",
    "- **b**. <s>Ofrece herramientas para realizar cálculos numéricos eficientes y\n",
    "  operaciones con arrays multidimensionales.</s>\n",
    "- **c**. <s>Permite la creación de gráficos y visualizaciones de datos de alta\n",
    "  calidad.</s>\n",
    "- **d**. <s>Proporciona algoritmos y herramientas para problemas de matemáticas,\n",
    "  ciencia e ingeniería.</s>\n",
    "- **e**. <s>Proporciona funcionalidades para álgebra simbólica y cálculo\n",
    "  matemático.</s>\n",
    "- **f**. <s>Es una aplicación web que permite crear y compartir documentos que\n",
    "  contienen código, ecuaciones, visualizaciones y texto explicativo.</s>"
   ]
  },
  {
   "cell_type": "code",
   "execution_count": 22,
   "metadata": {},
   "outputs": [],
   "source": [
    "respuesta_1_3 = {\n",
    "    \"jupyter\": \"f\",\n",
    "    \"matplotlib\": \"c\",\n",
    "    \"numpy\": \"b\",\n",
    "    \"pandas\": \"a\",\n",
    "    \"scipy\": \"d\",\n",
    "    \"sympy\": \"e\",\n",
    "}"
   ]
  },
  {
   "cell_type": "markdown",
   "metadata": {},
   "source": [
    "### Ejercicio 1.4"
   ]
  },
  {
   "cell_type": "markdown",
   "metadata": {},
   "source": [
    "Como vimos en clase, el comando mágico `%lsmagic` te permite listar todos los\n",
    "comandos mágicos disponibles en Jupyter.\n",
    "Un comando relacionado pero más amigable es `%quickref`, que te muestra una\n",
    "pequeña guía de referencia rápida.\n",
    "\n",
    "Ejecuta el comando `%quickref` y responde a la siguiente pregunta."
   ]
  },
  {
   "cell_type": "code",
   "execution_count": 23,
   "metadata": {},
   "outputs": [
    {
     "name": "stdout",
     "output_type": "stream",
     "text": [
      "\n",
      "IPython -- An enhanced Interactive Python - Quick Reference Card\n",
      "================================================================\n",
      "\n",
      "obj?, obj??      : Get help, or more help for object (also works as\n",
      "                   ?obj, ??obj).\n",
      "?foo.*abc*       : List names in 'foo' containing 'abc' in them.\n",
      "%magic           : Information about IPython's 'magic' % functions.\n",
      "\n",
      "Magic functions are prefixed by % or %%, and typically take their arguments\n",
      "without parentheses, quotes or even commas for convenience.  Line magics take a\n",
      "single % and cell magics are prefixed with two %%.\n",
      "\n",
      "Example magic function calls:\n",
      "\n",
      "%alias d ls -F   : 'd' is now an alias for 'ls -F'\n",
      "alias d ls -F    : Works if 'alias' not a python name\n",
      "alist = %alias   : Get list of aliases to 'alist'\n",
      "cd /usr/share    : Obvious. cd -<tab> to choose from visited dirs.\n",
      "%cd??            : See help AND source for magic %cd\n",
      "%timeit x=10     : time the 'x=10' statement with high precision.\n",
      "%%timeit x=2**100\n",
      "x**100           : time 'x**100' with a setup of 'x=2**100'; setup code is not\n",
      "                   counted.  This is an example of a cell magic.\n",
      "\n",
      "System commands:\n",
      "\n",
      "!cp a.txt b/     : System command escape, calls os.system()\n",
      "cp a.txt b/      : after %rehashx, most system commands work without !\n",
      "cp ${f}.txt $bar : Variable expansion in magics and system commands\n",
      "files = !ls /usr : Capture system command output\n",
      "files.s, files.l, files.n: \"a b c\", ['a','b','c'], 'a\\nb\\nc'\n",
      "\n",
      "History:\n",
      "\n",
      "_i, _ii, _iii    : Previous, next previous, next next previous input\n",
      "_i4, _ih[2:5]    : Input history line 4, lines 2-4\n",
      "exec(_i81)       : Execute input history line #81 again\n",
      "%rep 81          : Edit input history line #81\n",
      "_, __, ___       : previous, next previous, next next previous output\n",
      "_dh              : Directory history\n",
      "_oh              : Output history\n",
      "%hist            : Command history of current session.\n",
      "%hist -g foo     : Search command history of (almost) all sessions for 'foo'.\n",
      "%hist -g         : Command history of (almost) all sessions.\n",
      "%hist 1/2-8      : Command history containing lines 2-8 of session 1.\n",
      "%hist 1/ ~2/     : Command history of session 1 and 2 sessions before current.\n",
      "%hist ~8/1-~6/5  : Command history from line 1 of 8 sessions ago to\n",
      "                   line 5 of 6 sessions ago.\n",
      "%edit 0/         : Open editor to execute code with history of current session.\n",
      "\n",
      "Autocall:\n",
      "\n",
      "f 1,2            : f(1,2)  # Off by default, enable with %autocall magic.\n",
      "/f 1,2           : f(1,2) (forced autoparen)\n",
      ",f 1 2           : f(\"1\",\"2\")\n",
      ";f 1 2           : f(\"1 2\")\n",
      "\n",
      "Remember: TAB completion works in many contexts, not just file names\n",
      "or python names.\n",
      "\n",
      "The following magic functions are currently available:\n",
      "\n",
      "%alias:\n",
      "    Define an alias for a system command.\n",
      "%alias_magic:\n",
      "    ::\n",
      "%autoawait:\n",
      "    \n",
      "%autocall:\n",
      "    Make functions callable without having to type parentheses.\n",
      "%automagic:\n",
      "    Make magic functions callable without having to type the initial %.\n",
      "%autosave:\n",
      "    Set the autosave interval in the notebook (in seconds).\n",
      "%bookmark:\n",
      "    Manage IPython's bookmark system.\n",
      "%cat:\n",
      "    Alias for `!cat`\n",
      "%cd:\n",
      "    Change the current working directory.\n",
      "%clear:\n",
      "    Clear the terminal.\n",
      "%code_wrap:\n",
      "    ::\n",
      "%colors:\n",
      "    Switch color scheme for prompts, info system and exception handlers.\n",
      "%conda:\n",
      "    Run the conda package manager within the current kernel.\n",
      "%config:\n",
      "    configure IPython\n",
      "%connect_info:\n",
      "    Print information for connecting other clients to this kernel\n",
      "%cp:\n",
      "    Alias for `!cp`\n",
      "%debug:\n",
      "    ::\n",
      "%dhist:\n",
      "    Print your history of visited directories.\n",
      "%dirs:\n",
      "    Return the current directory stack.\n",
      "%doctest_mode:\n",
      "    Toggle doctest mode on and off.\n",
      "%ed:\n",
      "    Alias for `%edit`.\n",
      "%edit:\n",
      "    Bring up an editor and execute the resulting code.\n",
      "%env:\n",
      "    Get, set, or list environment variables.\n",
      "%gui:\n",
      "    Enable or disable IPython GUI event loop integration.\n",
      "%hist:\n",
      "    Alias for `%history`.\n",
      "%history:\n",
      "    ::\n",
      "%killbgscripts:\n",
      "    Kill all BG processes started by %%script and its family.\n",
      "%ldir:\n",
      "    Alias for `!ls -F -G -l %l | grep /$`\n",
      "%less:\n",
      "    Show a file through the pager.\n",
      "%lf:\n",
      "    Alias for `!ls -F -l -G %l | grep ^-`\n",
      "%lk:\n",
      "    Alias for `!ls -F -l -G %l | grep ^l`\n",
      "%ll:\n",
      "    Alias for `!ls -F -l -G`\n",
      "%load:\n",
      "    Load code into the current frontend.\n",
      "%load_ext:\n",
      "    Load an IPython extension by its module name.\n",
      "%loadpy:\n",
      "    Alias of `%load`\n",
      "%logoff:\n",
      "    Temporarily stop logging.\n",
      "%logon:\n",
      "    Restart logging.\n",
      "%logstart:\n",
      "    Start logging anywhere in a session.\n",
      "%logstate:\n",
      "    Print the status of the logging system.\n",
      "%logstop:\n",
      "    Fully stop logging and close log file.\n",
      "%ls:\n",
      "    Alias for `!ls -F -G`\n",
      "%lsmagic:\n",
      "    List currently available magic functions.\n",
      "%lx:\n",
      "    Alias for `!ls -F -l -G %l | grep ^-..x`\n",
      "%macro:\n",
      "    Define a macro for future re-execution. It accepts ranges of history,\n",
      "%magic:\n",
      "    Print information about the magic function system.\n",
      "%mamba:\n",
      "    Run the mamba package manager within the current kernel.\n",
      "%man:\n",
      "    Find the man page for the given command and display in pager.\n",
      "%matplotlib:\n",
      "    ::\n",
      "%micromamba:\n",
      "    Run the conda package manager within the current kernel.\n",
      "%mkdir:\n",
      "    Alias for `!mkdir`\n",
      "%more:\n",
      "    Show a file through the pager.\n",
      "%mv:\n",
      "    Alias for `!mv`\n",
      "%notebook:\n",
      "    ::\n",
      "%page:\n",
      "    Pretty print the object and display it through a pager.\n",
      "%pastebin:\n",
      "    Upload code to dpaste.com, returning the URL.\n",
      "%pdb:\n",
      "    Control the automatic calling of the pdb interactive debugger.\n",
      "%pdef:\n",
      "    Print the call signature for any callable object.\n",
      "%pdoc:\n",
      "    Print the docstring for an object.\n",
      "%pfile:\n",
      "    Print (or run through pager) the file where an object is defined.\n",
      "%pinfo:\n",
      "    Provide detailed information about an object.\n",
      "%pinfo2:\n",
      "    Provide extra detailed information about an object.\n",
      "%pip:\n",
      "    Run the pip package manager within the current kernel.\n",
      "%popd:\n",
      "    Change to directory popped off the top of the stack.\n",
      "%pprint:\n",
      "    Toggle pretty printing on/off.\n",
      "%precision:\n",
      "    Set floating point precision for pretty printing.\n",
      "%prun:\n",
      "    Run a statement through the python code profiler.\n",
      "%psearch:\n",
      "    Search for object in namespaces by wildcard.\n",
      "%psource:\n",
      "    Print (or run through pager) the source code for an object.\n",
      "%pushd:\n",
      "    Place the current dir on stack and change directory.\n",
      "%pwd:\n",
      "    Return the current working directory path.\n",
      "%pycat:\n",
      "    Show a syntax-highlighted file through a pager.\n",
      "%pylab:\n",
      "    ::\n",
      "%qtconsole:\n",
      "    Open a qtconsole connected to this kernel.\n",
      "%quickref:\n",
      "    Show a quick reference sheet \n",
      "%recall:\n",
      "    Repeat a command, or get command to input line for editing.\n",
      "%rehashx:\n",
      "    Update the alias table with all executable files in $PATH.\n",
      "%reload_ext:\n",
      "    Reload an IPython extension by its module name.\n",
      "%rep:\n",
      "    Alias for `%recall`.\n",
      "%rerun:\n",
      "    Re-run previous input\n",
      "%reset:\n",
      "    Resets the namespace by removing all names defined by the user, if\n",
      "%reset_selective:\n",
      "    Resets the namespace by removing names defined by the user.\n",
      "%rm:\n",
      "    Alias for `!rm`\n",
      "%rmdir:\n",
      "    Alias for `!rmdir`\n",
      "%run:\n",
      "    Run the named file inside IPython as a program.\n",
      "%save:\n",
      "    Save a set of lines or a macro to a given filename.\n",
      "%sc:\n",
      "    Shell capture - run shell command and capture output (DEPRECATED use !).\n",
      "%set_env:\n",
      "    Set environment variables.  Assumptions are that either \"val\" is a\n",
      "%store:\n",
      "    Lightweight persistence for python variables.\n",
      "%sx:\n",
      "    Shell execute - run shell command and capture output (!! is short-hand).\n",
      "%system:\n",
      "    Shell execute - run shell command and capture output (!! is short-hand).\n",
      "%tb:\n",
      "    Print the last traceback.\n",
      "%time:\n",
      "    Time execution of a Python statement or expression.\n",
      "%timeit:\n",
      "    Time execution of a Python statement or expression\n",
      "%unalias:\n",
      "    Remove an alias\n",
      "%unload_ext:\n",
      "    Unload an IPython extension by its module name.\n",
      "%who:\n",
      "    Print all interactive variables, with some minimal formatting.\n",
      "%who_ls:\n",
      "    Return a sorted list of all interactive variables.\n",
      "%whos:\n",
      "    Like %who, but gives some extra information about each variable.\n",
      "%xdel:\n",
      "    Delete a variable, trying to clear it from anywhere that\n",
      "%xmode:\n",
      "    Switch modes for the exception handlers.\n",
      "%%!:\n",
      "    Shell execute - run shell command and capture output (!! is short-hand).\n",
      "%%HTML:\n",
      "    Alias for `%%html`.\n",
      "%%SVG:\n",
      "    Alias for `%%svg`.\n",
      "%%bash:\n",
      "    %%bash script magic\n",
      "%%capture:\n",
      "    ::\n",
      "%%code_wrap:\n",
      "    ::\n",
      "%%debug:\n",
      "    ::\n",
      "%%file:\n",
      "    Alias for `%%writefile`.\n",
      "%%html:\n",
      "    ::\n",
      "%%javascript:\n",
      "    Run the cell block of Javascript code\n",
      "%%js:\n",
      "    Run the cell block of Javascript code\n",
      "%%latex:\n",
      "    Render the cell as a block of LaTeX\n",
      "%%markdown:\n",
      "    Render the cell as Markdown text block\n",
      "%%perl:\n",
      "    %%perl script magic\n",
      "%%prun:\n",
      "    Run a statement through the python code profiler.\n",
      "%%pypy:\n",
      "    %%pypy script magic\n",
      "%%python:\n",
      "    %%python script magic\n",
      "%%python2:\n",
      "    %%python2 script magic\n",
      "%%python3:\n",
      "    %%python3 script magic\n",
      "%%ruby:\n",
      "    %%ruby script magic\n",
      "%%script:\n",
      "    ::\n",
      "%%sh:\n",
      "    %%sh script magic\n",
      "%%svg:\n",
      "    Render the cell as an SVG literal\n",
      "%%sx:\n",
      "    Shell execute - run shell command and capture output (!! is short-hand).\n",
      "%%system:\n",
      "    Shell execute - run shell command and capture output (!! is short-hand).\n",
      "%%time:\n",
      "    Time execution of a Python statement or expression.\n",
      "%%timeit:\n",
      "    Time execution of a Python statement or expression\n",
      "%%writefile:\n",
      "    ::\n"
     ]
    }
   ],
   "source": [
    "# Ejecuta aquí el comando mágico que se te pide\n",
    "%quickref"
   ]
  },
  {
   "cell_type": "markdown",
   "metadata": {},
   "source": [
    "Según la guía rápida, ¿cuál es el comando mágico que te permite guardar el\n",
    "cuaderno actual de forma automática cada cierto tiempo?"
   ]
  },
  {
   "cell_type": "code",
   "execution_count": 24,
   "metadata": {},
   "outputs": [],
   "source": [
    "respuesta_1_4 = \"autosave: Set the autosave interval in the notebook (in seconds).\"\n",
    "respuesta_1_4 = \"%autosave\""
   ]
  },
  {
   "cell_type": "markdown",
   "metadata": {},
   "source": [
    "## 2. Uso de NumPy"
   ]
  },
  {
   "cell_type": "markdown",
   "metadata": {},
   "source": [
    "### Ejercicio 2.1"
   ]
  },
  {
   "cell_type": "markdown",
   "metadata": {},
   "source": [
    "Captura la siguiente matriz de números enteros en una variable llamada\n",
    "`respuesta_2_1` utilizando NumPy.\n",
    "\n",
    "$$\\begin{bmatrix}\n",
    "2 & 3 & 5 \\\\\n",
    "7 & 11 & 13 \\\\\n",
    "17 & 19 & 23 \\\\\n",
    "29 & 31 & 37 \\\\\n",
    "\\end{bmatrix}$$"
   ]
  },
  {
   "cell_type": "code",
   "execution_count": 25,
   "metadata": {},
   "outputs": [
    {
     "data": {
      "text/plain": [
       "array([[ 2,  3,  5],\n",
       "       [ 7, 11, 13],\n",
       "       [17, 19, 23],\n",
       "       [29, 31, 37]])"
      ]
     },
     "execution_count": 25,
     "metadata": {},
     "output_type": "execute_result"
    }
   ],
   "source": [
    "import numpy as np\n",
    "\n",
    "respuesta_2_1 = np.array([[2,3,5],[7,11,13],[17,19,23],[29,31,37]])\n",
    "respuesta_2_1"
   ]
  },
  {
   "cell_type": "markdown",
   "metadata": {},
   "source": [
    "### Ejercicio 2.2"
   ]
  },
  {
   "cell_type": "markdown",
   "metadata": {},
   "source": [
    "¿Cuál es la forma de la matriz capturada?"
   ]
  },
  {
   "cell_type": "code",
   "execution_count": 26,
   "metadata": {},
   "outputs": [
    {
     "data": {
      "text/plain": [
       "(4, 3)"
      ]
     },
     "execution_count": 26,
     "metadata": {},
     "output_type": "execute_result"
    }
   ],
   "source": [
    "respuesta_2_2 = respuesta_2_1.shape\n",
    "respuesta_2_2"
   ]
  },
  {
   "cell_type": "markdown",
   "metadata": {},
   "source": [
    "### Ejercicio 2.3"
   ]
  },
  {
   "cell_type": "markdown",
   "metadata": {},
   "source": [
    "¿Cuál es el tamaño en bytes de la matriz capturada?"
   ]
  },
  {
   "cell_type": "code",
   "execution_count": 27,
   "metadata": {},
   "outputs": [
    {
     "data": {
      "text/plain": [
       "96"
      ]
     },
     "execution_count": 27,
     "metadata": {},
     "output_type": "execute_result"
    }
   ],
   "source": [
    "respuesta_2_3 = respuesta_2_1.nbytes\n",
    "respuesta_2_3"
   ]
  },
  {
   "cell_type": "markdown",
   "metadata": {},
   "source": [
    "### Ejercicio 2.4"
   ]
  },
  {
   "cell_type": "markdown",
   "metadata": {},
   "source": [
    "¿Qué tipo de datos almacena la matriz capturada?"
   ]
  },
  {
   "cell_type": "code",
   "execution_count": 28,
   "metadata": {},
   "outputs": [
    {
     "data": {
      "text/plain": [
       "dtype('int64')"
      ]
     },
     "execution_count": 28,
     "metadata": {},
     "output_type": "execute_result"
    }
   ],
   "source": [
    "respuesta_2_4 = respuesta_2_1.dtype\n",
    "respuesta_2_4"
   ]
  },
  {
   "cell_type": "markdown",
   "metadata": {},
   "source": [
    "### Ejercicio 2.5"
   ]
  },
  {
   "cell_type": "markdown",
   "metadata": {},
   "source": [
    "¿Cuál es el elemento que está en el renglón 2, columna 0?"
   ]
  },
  {
   "cell_type": "code",
   "execution_count": 29,
   "metadata": {},
   "outputs": [
    {
     "data": {
      "text/plain": [
       "17"
      ]
     },
     "execution_count": 29,
     "metadata": {},
     "output_type": "execute_result"
    }
   ],
   "source": [
    "respuesta_2_5 = respuesta_2_1[2, 0]\n",
    "respuesta_2_5\n"
   ]
  },
  {
   "cell_type": "markdown",
   "metadata": {},
   "source": [
    "### Ejercicio 2.6"
   ]
  },
  {
   "cell_type": "markdown",
   "metadata": {},
   "source": [
    "¿Cuál es el renglón 2 de la matriz capturada?"
   ]
  },
  {
   "cell_type": "code",
   "execution_count": 30,
   "metadata": {},
   "outputs": [
    {
     "data": {
      "text/plain": [
       "array([17, 19, 23])"
      ]
     },
     "execution_count": 30,
     "metadata": {},
     "output_type": "execute_result"
    }
   ],
   "source": [
    "respuesta_2_6 = respuesta_2_1[2, :]\n",
    "respuesta_2_6"
   ]
  },
  {
   "cell_type": "markdown",
   "metadata": {},
   "source": [
    "### Ejercicio 2.7"
   ]
  },
  {
   "cell_type": "markdown",
   "metadata": {},
   "source": [
    "¿Cuál es la columna 1 de la matriz capturada?"
   ]
  },
  {
   "cell_type": "code",
   "execution_count": 31,
   "metadata": {},
   "outputs": [
    {
     "data": {
      "text/plain": [
       "array([ 3, 11, 19, 31])"
      ]
     },
     "execution_count": 31,
     "metadata": {},
     "output_type": "execute_result"
    }
   ],
   "source": [
    "respuesta_2_7 = respuesta_2_1[:, 1]\n",
    "respuesta_2_7"
   ]
  },
  {
   "cell_type": "markdown",
   "metadata": {},
   "source": [
    "### Ejercicio 2.8"
   ]
  },
  {
   "cell_type": "markdown",
   "metadata": {},
   "source": [
    "Utiliza una función de NumPy para generar un arreglo `x` de 50 números \n",
    "equidistantes en el intervalo $[-1, 1]$."
   ]
  },
  {
   "cell_type": "code",
   "execution_count": 32,
   "metadata": {},
   "outputs": [
    {
     "data": {
      "text/plain": [
       "array([-1.        , -0.95918367, -0.91836735, -0.87755102, -0.83673469,\n",
       "       -0.79591837, -0.75510204, -0.71428571, -0.67346939, -0.63265306,\n",
       "       -0.59183673, -0.55102041, -0.51020408, -0.46938776, -0.42857143,\n",
       "       -0.3877551 , -0.34693878, -0.30612245, -0.26530612, -0.2244898 ,\n",
       "       -0.18367347, -0.14285714, -0.10204082, -0.06122449, -0.02040816,\n",
       "        0.02040816,  0.06122449,  0.10204082,  0.14285714,  0.18367347,\n",
       "        0.2244898 ,  0.26530612,  0.30612245,  0.34693878,  0.3877551 ,\n",
       "        0.42857143,  0.46938776,  0.51020408,  0.55102041,  0.59183673,\n",
       "        0.63265306,  0.67346939,  0.71428571,  0.75510204,  0.79591837,\n",
       "        0.83673469,  0.87755102,  0.91836735,  0.95918367,  1.        ])"
      ]
     },
     "execution_count": 32,
     "metadata": {},
     "output_type": "execute_result"
    }
   ],
   "source": [
    "import numpy as np\n",
    "\n",
    "x = np.linspace(-1, 1, 50)\n",
    "respuesta_2_8 = x  # No cambies esta línea\n",
    "respuesta_2_8"
   ]
  },
  {
   "cell_type": "markdown",
   "metadata": {},
   "source": [
    "### Ejercicio 2.9"
   ]
  },
  {
   "cell_type": "markdown",
   "metadata": {},
   "source": [
    "Utiliza el arreglo `x` para generar un arreglo `y` de acuerdo a la siguiente\n",
    "ecuación:\n",
    "$$y = x\\,\\sin\\left(\\frac{1}{x}\\right) - 1$$"
   ]
  },
  {
   "cell_type": "code",
   "execution_count": 33,
   "metadata": {},
   "outputs": [
    {
     "data": {
      "text/plain": [
       "array([-0.15852902, -0.17155892, -0.18622322, -0.20279828, -0.22161884,\n",
       "       -0.24309245, -0.26771772, -0.29610734, -0.32901655, -0.36737762,\n",
       "       -0.41233891, -0.46530361, -0.52795331, -0.60221871, -0.69010605,\n",
       "       -0.79316151, -0.91106372, -1.03818821, -1.15579695, -1.21706864,\n",
       "       -1.13661671, -0.90614477, -1.03739583, -1.03584065, -1.01946434,\n",
       "       -1.01946434, -1.03584065, -1.03739583, -0.90614477, -1.13661671,\n",
       "       -1.21706864, -1.15579695, -1.03818821, -0.91106372, -0.79316151,\n",
       "       -0.69010605, -0.60221871, -0.52795331, -0.46530361, -0.41233891,\n",
       "       -0.36737762, -0.32901655, -0.29610734, -0.26771772, -0.24309245,\n",
       "       -0.22161884, -0.20279828, -0.18622322, -0.17155892, -0.15852902])"
      ]
     },
     "execution_count": 33,
     "metadata": {},
     "output_type": "execute_result"
    }
   ],
   "source": [
    "y = x * np.sin(1/x) - 1\n",
    "respuesta_2_9 = y  # No cambies esta línea\n",
    "respuesta_2_9"
   ]
  },
  {
   "cell_type": "markdown",
   "metadata": {},
   "source": [
    "### Ejercicio 2.10"
   ]
  },
  {
   "cell_type": "markdown",
   "metadata": {},
   "source": [
    "El siguiente algoritmo *de Euclides* es una forma de encontrar el máximo común\n",
    "divisor de dos números enteros positivos:\n",
    "\n",
    "```python\n",
    "def mcd(a, b):\n",
    "    while b != 0:\n",
    "        a, b = b, a % b\n",
    "    return a\n",
    "```\n",
    "\n",
    "Primero modifica este algoritmo para que devuelva el número de iteraciones que\n",
    "realiza antes de terminar; es decir, la cantidad de veces que se ejecuta el\n",
    "cuerpo del ciclo `while`."
   ]
  },
  {
   "cell_type": "code",
   "execution_count": 34,
   "metadata": {},
   "outputs": [
    {
     "data": {
      "text/plain": [
       "<function __main__.cuenta_mcd(a, b)>"
      ]
     },
     "execution_count": 34,
     "metadata": {},
     "output_type": "execute_result"
    }
   ],
   "source": [
    "def cuenta_mcd(a, b):\n",
    "    iterations = 0\n",
    "    while b != 0:\n",
    "        a, b = b, a % b\n",
    "        iterations += 1\n",
    "    return int(iterations)\n",
    "\n",
    "respuesta_2_10 = cuenta_mcd  # No cambies esta línea\n",
    "respuesta_2_10"
   ]
  },
  {
   "cell_type": "markdown",
   "metadata": {},
   "source": [
    "### Ejercicio 2.11"
   ]
  },
  {
   "cell_type": "markdown",
   "metadata": {},
   "source": [
    "Utiliza `np.frompyfunc` para convertir `cuenta_mcd` en una función vectorizada\n",
    "que acepte dos arreglos de NumPy `a` y `b` y devuelva un arreglo con la cantidad\n",
    "de iteraciones que realiza el algoritmo de Euclides para cada par de elementos\n",
    "de `a` y `b`."
   ]
  },
  {
   "cell_type": "code",
   "execution_count": 35,
   "metadata": {},
   "outputs": [
    {
     "data": {
      "text/plain": [
       "<ufunc 'cuenta_mcd (vectorized)'>"
      ]
     },
     "execution_count": 35,
     "metadata": {},
     "output_type": "execute_result"
    }
   ],
   "source": [
    "vec_cuenta_mcd = np.frompyfunc(cuenta_mcd, 2, 1)  # Cambia esto por tu respuesta\n",
    "\n",
    "respuesta_2_11 = vec_cuenta_mcd  # No cambies esta línea\n",
    "respuesta_2_11"
   ]
  },
  {
   "cell_type": "markdown",
   "metadata": {},
   "source": [
    "### Ejercicio 2.12"
   ]
  },
  {
   "cell_type": "markdown",
   "metadata": {},
   "source": [
    "Utiliza `np.meshgrid` para generar dos arreglos `a` y `b` de números enteros\n",
    "que te permitan evaluar la función vectorizada en el rango bidimensional\n",
    "$[0, 99] \\times [0, 99]$.\n",
    "La función vectorizada debe devolver un arreglo bidimensional de tipo `np.int_`.\n",
    "\n",
    "Para ello, considera que la funcion `np.arange` genera un arreglo de números\n",
    "enteros de la misma forma que `range` de Python, solo que en forma de arreglo de\n",
    "NumPy; por ejemplo, `np.arange(5)` devuelve `array([0, 1, 2, 3, 4])`."
   ]
  },
  {
   "cell_type": "code",
   "execution_count": 36,
   "metadata": {},
   "outputs": [
    {
     "data": {
      "text/plain": [
       "(array([[ 0,  1,  2, ..., 97, 98, 99],\n",
       "        [ 0,  1,  2, ..., 97, 98, 99],\n",
       "        [ 0,  1,  2, ..., 97, 98, 99],\n",
       "        ...,\n",
       "        [ 0,  1,  2, ..., 97, 98, 99],\n",
       "        [ 0,  1,  2, ..., 97, 98, 99],\n",
       "        [ 0,  1,  2, ..., 97, 98, 99]]),\n",
       " array([[ 0,  0,  0, ...,  0,  0,  0],\n",
       "        [ 1,  1,  1, ...,  1,  1,  1],\n",
       "        [ 2,  2,  2, ...,  2,  2,  2],\n",
       "        ...,\n",
       "        [97, 97, 97, ..., 97, 97, 97],\n",
       "        [98, 98, 98, ..., 98, 98, 98],\n",
       "        [99, 99, 99, ..., 99, 99, 99]]),\n",
       " array([[0, 0, 0, ..., 0, 0, 0],\n",
       "        [1, 1, 1, ..., 1, 1, 1],\n",
       "        [1, 2, 1, ..., 2, 1, 2],\n",
       "        ...,\n",
       "        [1, 2, 3, ..., 1, 2, 3],\n",
       "        [1, 2, 2, ..., 3, 1, 2],\n",
       "        [1, 2, 3, ..., 4, 3, 1]]))"
      ]
     },
     "execution_count": 36,
     "metadata": {},
     "output_type": "execute_result"
    }
   ],
   "source": [
    "a, b = np.meshgrid(np.arange(100), np.arange(100))\n",
    "c = vec_cuenta_mcd(a, b)  # Usa vec_cuenta_mcd y convierte el resultado a tipo entero\n",
    "c = vec_cuenta_mcd(a, b).astype(int)\n",
    "\n",
    "\n",
    "respuesta_2_12 = (a, b, c)  # No cambies esta línea\n",
    "respuesta_2_12"
   ]
  },
  {
   "cell_type": "markdown",
   "metadata": {},
   "source": [
    "## 3. Uso de Matplotlib"
   ]
  },
  {
   "cell_type": "markdown",
   "metadata": {},
   "source": [
    "#### Ejercicio 3.1"
   ]
  },
  {
   "cell_type": "markdown",
   "metadata": {},
   "source": [
    "Utiliza la función `plot` de Matplotlib para dibujar una letra \"M\" que se\n",
    "ajusta al área $[0, 2] \\times [0, 2]$.\n",
    "La letra \"M\" debe estar formada por una línea quebrada de 5 vértices comenzando\n",
    "en el extremo inferior izquierdo y terminando en el extremo inferior derecho.\n",
    "Utiliza sólo números enteros en las coordenadas de los vértices."
   ]
  },
  {
   "cell_type": "code",
   "execution_count": 37,
   "metadata": {},
   "outputs": [
    {
     "data": {
      "image/png": "[encoded data removed]",
      "text/plain": [
       "<Figure size 640x480 with 1 Axes>"
      ]
     },
     "metadata": {},
     "output_type": "display_data"
    }
   ],
   "source": [
    "import matplotlib.pyplot as plt\n",
    "\n",
    "x = [0, 0, 1, 2, 2]\n",
    "y = [0, 2, 1, 2, 0]\n",
    "\n",
    "plt.plot(x, y, color='pink', linewidth=5)\n",
    "plt.xlim(0, 2)\n",
    "plt.ylim(0, 2)\n",
    "plt.gca().set_aspect('equal', adjustable='box')\n",
    "plt.gca().set_facecolor('white')\n",
    "\n",
    "respuesta_3_1 = plt.gcf(), plt.gca() # No cambies esta línea"
   ]
  },
  {
   "cell_type": "markdown",
   "metadata": {},
   "source": [
    "### Ejercicio 3.2"
   ]
  },
  {
   "cell_type": "markdown",
   "metadata": {},
   "source": [
    "Grafica la función del ejercicio 2.9 en el intervalo $[-1, 1]$.\n",
    "\n",
    "- Etiqueta a la línea con la fórmla $y = x\\,\\sin\\left(\\frac{1}{x}\\right) - 1$.\n",
    "- Cambia el color de la línea a \"goldenrod\" y el grosor a 5.\n",
    "- Cambia el color de fondo a negro (usa `ax.set_facecolor`).\n",
    "- Cambia el título del eje a *Batman*"
   ]
  },
  {
   "cell_type": "code",
   "execution_count": 38,
   "metadata": {},
   "outputs": [
    {
     "data": {
      "text/plain": [
       "(<Figure size 640x480 with 1 Axes>, <Axes: title={'center': 'Batman'}>)"
      ]
     },
     "execution_count": 38,
     "metadata": {},
     "output_type": "execute_result"
    },
    {
     "data": {
      "image/png": "[encoded data removed]",
      "text/plain": [
       "<Figure size 640x480 with 1 Axes>"
      ]
     },
     "metadata": {},
     "output_type": "display_data"
    }
   ],
   "source": [
    "x, y = respuesta_2_8, respuesta_2_9\n",
    "\n",
    "fig, ax = plt.subplots()\n",
    "ax.plot(x, y, color='goldenrod', linewidth=5, label=r\"$x \\sin\\left(\\frac{1}{x}\\right) - 1$\")\n",
    "ax.set_facecolor('black')\n",
    "# ax.set_xlabel('x')\n",
    "# ax.set_ylabel('y')\n",
    "ax.set_title('Batman')\n",
    "# label= r\"$x \\\\sin\\\\left(\\\\frac{1}{x}\\\\right) - 1$\"\n",
    "\n",
    "# ax.set_xlim(-1, 1) # Esto es lo que me pide?\n",
    "\n",
    "respuesta_3_2 = fig, ax\n",
    "respuesta_3_2"
   ]
  },
  {
   "cell_type": "markdown",
   "metadata": {},
   "source": [
    "### Ejercicio 3.3"
   ]
  },
  {
   "cell_type": "markdown",
   "metadata": {},
   "source": [
    "Grafica la función del ejercicio 2.12.\n",
    "\n",
    "- Utiliza el mapa de colores \"cooper\".\n",
    "- Remueve los ejes para que estos no sean visibles."
   ]
  },
  {
   "cell_type": "code",
   "execution_count": 39,
   "metadata": {},
   "outputs": [
    {
     "data": {
      "text/plain": [
       "(<Figure size 640x480 with 1 Axes>, <Axes: >)"
      ]
     },
     "execution_count": 39,
     "metadata": {},
     "output_type": "execute_result"
    },
    {
     "data": {
      "image/png": "[encoded data removed]",
      "text/plain": [
       "<Figure size 640x480 with 1 Axes>"
      ]
     },
     "metadata": {},
     "output_type": "display_data"
    }
   ],
   "source": [
    "arr = respuesta_2_12[2]\n",
    "arr = respuesta_2_12[2].astype(float)\n",
    "\n",
    "fig, ax = plt.subplots()\n",
    "ax.imshow(arr, cmap='copper')\n",
    "ax.axis('off')\n",
    "\n",
    "respuesta_3_3 = fig, ax  # No cambies esta línea\n",
    "respuesta_3_3"
   ]
  },
  {
   "cell_type": "markdown",
   "metadata": {},
   "source": [
    "## Evaluación"
   ]
  },
  {
   "cell_type": "markdown",
   "metadata": {},
   "source": [
    "Las pruebas unitarias son pequeños programas que verifican la corrección de tu\n",
    "código mediante la comparación del resultado de tu programa con un valor\n",
    "esperado.\n",
    "A continuación he preparado varias pruebas unitarias para que puedas verificar\n",
    "por ti mismo si tus respuestas son correctas."
   ]
  },
  {
   "cell_type": "code",
   "execution_count": 40,
   "metadata": {},
   "outputs": [],
   "source": [
    "class TestTarea(unittest.TestCase):\n",
    "    \"\"\"Evaluación de la tarea.\"\"\"\n",
    "\n",
    "    def test_respuesta_1_1(self):\n",
    "        \"\"\"Verificando la respuesta 1-1\"\"\"\n",
    "        self.assertIsInstance(\n",
    "            respuesta_1_1, str, \"La respuesta debería ser una cadena.\"\n",
    "        )\n",
    "        self.assertFalse(\n",
    "            respuesta_1_1.startswith(\"http\"),\n",
    "            \"La respuesta no debe contener el protocolo.\",\n",
    "        )\n",
    "        self.assertFalse(\n",
    "            respuesta_1_1.endswith(\"/\"),\n",
    "            \"La respuesta no debe terminar con una diagonal.\",\n",
    "        )\n",
    "        self.assertEqual(\n",
    "            hashlib.sha256((respuesta_1_1 + \"salt\").encode(\"utf8\")).hexdigest(),\n",
    "            \"f5e2589d3b27b3d66758277bb44f74188b077fd9f37b4582a983d517edd3fbe9\",\n",
    "            \"La respuesta no es correcta.\",\n",
    "        )\n",
    "\n",
    "    def test_respuesta_1_2(self):\n",
    "        \"\"\"Verificando la respuesta 1-2\"\"\"\n",
    "        self.assertIsInstance(\n",
    "            respuesta_1_2, str, \"La respuesta debería ser una cadena.\"\n",
    "        )\n",
    "        self.assertEqual(\n",
    "            hashlib.sha256((respuesta_1_2 + \"salt\").encode(\"utf8\")).hexdigest(),\n",
    "            \"b3da46755d8dca0e11bf32a1feaff3f41f536d87e2471337395a6e7e350d98f6\",\n",
    "            \"La respuesta no es correcta.\",\n",
    "        )\n",
    "\n",
    "    def test_respuesta_1_3(self):\n",
    "        \"\"\"Verificando la respuesta 1-3\"\"\"\n",
    "        self.assertIsInstance(\n",
    "            respuesta_1_3, dict, \"La respuesta debería ser un diccionario.\"\n",
    "        )\n",
    "        for v in respuesta_1_3.values():\n",
    "            self.assertIsInstance(\n",
    "                v, str, \"Los valores del diccionario deberían ser cadenas de texto.\"\n",
    "            )\n",
    "        clave = \"\".join(respuesta_1_3[k] for k in sorted(respuesta_1_3.keys()))\n",
    "        self.assertEqual(\n",
    "            \"\".join(sorted(clave)),\n",
    "            \"abcdef\",\n",
    "            'Las respuestas deben ser una permutación de \"a\", \"b\", \"c\", \"d\", \"e\" y \"f\"',\n",
    "        )\n",
    "        self.assertEqual(\n",
    "            hashlib.sha256((clave + \"salt\").encode(\"utf8\")).hexdigest(),\n",
    "            \"d01e5978e5b30998a4f3df922770738264d5734cf69014a39d33a1532522a508\",\n",
    "            \"La respuesta no es correcta.\",\n",
    "        )\n",
    "\n",
    "    def test_respuesta_1_4(self):\n",
    "        \"\"\"Verificando la respuesta 1-4\"\"\"\n",
    "        self.assertIsInstance(\n",
    "            respuesta_1_4, str, \"La respuesta debería ser una cadena.\"\n",
    "        )\n",
    "        self.assertTrue(\n",
    "            respuesta_1_4.startswith(\"%\"),\n",
    "            \"La respuesta debería ser un comando mágico de Jupyter.\",\n",
    "        )\n",
    "        self.assertEqual(\n",
    "            hashlib.sha256((respuesta_1_4 + \"salt\").encode(\"utf8\")).hexdigest(),\n",
    "            \"589887ce2383827732bde7abe1ce751680cc0087cdce9a79fcdcbe9f68be0d03\",\n",
    "            \"La respuesta no es correcta.\",\n",
    "        )\n",
    "\n",
    "    def test_respuesta_2_01(self):\n",
    "        \"\"\"Verificando la respuesta 2-1\"\"\"\n",
    "        self.assertIsInstance(\n",
    "            respuesta_2_1,\n",
    "            np.ndarray,\n",
    "            \"La respuesta debería ser un arreglo de NumPy. \"\n",
    "            f\"Se obtuvo {type(respuesta_2_1)}.\",\n",
    "        )\n",
    "        self.assertIs(\n",
    "            respuesta_2_1.dtype.type,\n",
    "            np.int_,\n",
    "            f\"El arreglo debería contener enteros. Se obtuvo {respuesta_2_1.dtype}.\",\n",
    "        )\n",
    "        self.assertEqual(\n",
    "            respuesta_2_1.shape,\n",
    "            (4, 3),\n",
    "            \"El arreglo debería tener forma (4, 3). \"\n",
    "            f\"Se obtuvo {respuesta_2_1.shape}.\",\n",
    "        )\n",
    "        repr_ = repr(respuesta_2_1.tolist())\n",
    "        self.assertEqual(\n",
    "            hashlib.sha256((repr_ + \"salt\").encode(\"utf8\")).hexdigest(),\n",
    "            \"7984aae256ef94234c416c52936374de1e2966c8f44aad4013efb63ab52a9dcb\",\n",
    "        )\n",
    "\n",
    "    def test_respuesta_2_02(self):\n",
    "        \"\"\"Verificando la respuesta 2-2\"\"\"\n",
    "        self.assertIsInstance(\n",
    "            respuesta_2_2,\n",
    "            tuple,\n",
    "            f\"La respuesta debería ser una tupla. Se obtuvo {type(respuesta_2_2)}.\",\n",
    "        )\n",
    "        self.assertEqual(\n",
    "            len(respuesta_2_2),\n",
    "            2,\n",
    "            \"La respuesta debería tener dos elementos.\"\n",
    "            f\"Se obtuvo {len(respuesta_2_2)}.\",\n",
    "        )\n",
    "        self.assertEqual(bytes(respuesta_2_2), b\"\\x04\\x03\")\n",
    "\n",
    "    def test_respuesta_2_03(self):\n",
    "        \"\"\"Verificando la respuesta 2-3\"\"\"\n",
    "        self.assertIsInstance(\n",
    "            respuesta_2_3,\n",
    "            int,\n",
    "            f\"La respuesta debería ser un entero. Se obtuvo {type(respuesta_2_3)}.\",\n",
    "        )\n",
    "        self.assertEqual(bytes([respuesta_2_3]), b\"`\", \"La respuesta no es correcta.\")\n",
    "\n",
    "    def test_respuesta_2_04(self):\n",
    "        \"\"\"Verificando la respuesta 2-4\"\"\"\n",
    "        self.assertIsInstance(\n",
    "            respuesta_2_4,\n",
    "            np.dtype,\n",
    "            \"La respuesta debería ser un tipo de dato de NumPy. \"\n",
    "            f\"Se obtuvo {type(respuesta_2_4)}.\",\n",
    "        )\n",
    "        self.assertEqual(respuesta_2_4.name, \"int64\", \"El tipo de dato no es correcto.\")\n",
    "\n",
    "    def test_respuesta_2_05(self):\n",
    "        \"\"\"Verificando la respuesta 2-5\"\"\"\n",
    "        self.assertIsInstance(\n",
    "            respuesta_2_5,\n",
    "            np.int64,\n",
    "            \"La respuesta no tiene el tipo correcto, ¿quizás \"\n",
    "            \"escribiste la respuesta a mano en lugar de usar NumPy?\",\n",
    "        )\n",
    "        self.assertEqual(respuesta_2_5, 17, \"La respuesta no es correcta.\")\n",
    "\n",
    "    def test_respuesta_2_06(self):\n",
    "        \"\"\"Verificando la respuesta 2-6\"\"\"\n",
    "        self.assertIsInstance(\n",
    "            respuesta_2_6,\n",
    "            np.ndarray,\n",
    "            \"La respuesta no tiene el tipo correcto, ¿quizás \"\n",
    "            \"escribiste la respuesta a mano en lugar de usar NumPy?\",\n",
    "        )\n",
    "        self.assertEqual(\n",
    "            respuesta_2_6.shape, (3,), \"La forma del arreglo no es correcta.\"\n",
    "        )\n",
    "        self.assertEqual(\n",
    "            bytes(respuesta_2_6.tolist()),\n",
    "            b\"\\x11\\x13\\x17\",\n",
    "            \"La respuesta no es correcta.\",\n",
    "        )\n",
    "\n",
    "    def test_respuesta_2_07(self):\n",
    "        \"\"\"Verificando la respuesta 2-7\"\"\"\n",
    "        self.assertIsInstance(\n",
    "            respuesta_2_7,\n",
    "            np.ndarray,\n",
    "            \"La respuesta no tiene el tipo correcto, ¿quizás \"\n",
    "            \"escribiste la respuesta a mano en lugar de usar NumPy?\",\n",
    "        )\n",
    "        self.assertEqual(\n",
    "            respuesta_2_7.shape, (4,), \"La forma del arreglo no es correcta.\"\n",
    "        )\n",
    "        self.assertEqual(\n",
    "            bytes(respuesta_2_7.tolist()),\n",
    "            b\"\\x03\\x0b\\x13\\x1f\",\n",
    "            \"La respuesta no es correcta.\",\n",
    "        )\n",
    "\n",
    "    def test_respuesta_2_08(self):\n",
    "        \"\"\"Verificando la respuesta 2-8\"\"\"\n",
    "        self.assertIsInstance(\n",
    "            respuesta_2_8,\n",
    "            np.ndarray,\n",
    "            f\"Se esperaba un arreglo de NumPy. Se obtuvo {type(respuesta_2_8)}.\",\n",
    "        )\n",
    "        self.assertEqual(\n",
    "            respuesta_2_8.shape,\n",
    "            (50,),\n",
    "            f\"Se esperaba un arreglo de forma (50,). Se obtuvo {respuesta_2_8.shape}.\",\n",
    "        )\n",
    "        self.assertTrue(\n",
    "            np.isclose(np.diff(respuesta_2_8), 2 / 49).all(),\n",
    "            \"Los valores no están a la distancia esperada.\",\n",
    "        )\n",
    "        self.assertEqual(\n",
    "            respuesta_2_8[[0, -1]].tolist(),\n",
    "            [-1.0, 1.0],\n",
    "            \"El rango del arreglo no es correcto.\",\n",
    "        )\n",
    "\n",
    "    def test_respuesta_2_09(self):\n",
    "        \"\"\"Verificando la respuesta 2-9\"\"\"\n",
    "        self.assertIsInstance(\n",
    "            respuesta_2_9,\n",
    "            np.ndarray,\n",
    "            f\"Se esperaba un arreglo de NumPy. Se obtuvo {type(respuesta_2_9)}.\",\n",
    "        )\n",
    "        self.assertEqual(\n",
    "            respuesta_2_9.shape,\n",
    "            (50,),\n",
    "            f\"Se esperaba un arreglo de forma (50,). Se obtuvo {respuesta_2_9.shape}.\",\n",
    "        )\n",
    "        repr_ = repr(np.round(respuesta_2_9, 3).tolist())\n",
    "        self.assertEqual(\n",
    "            hashlib.sha256(repr_.encode(\"utf8\")).hexdigest(),\n",
    "            \"2161efbb8161dd140fbdd5165e4ad37ec9e06d22998b9ff7cbc0c32ec634bdb2\",\n",
    "        )\n",
    "\n",
    "    def test_respuesta_2_10(self):\n",
    "        \"\"\"Verificando la respuesta 2-10\"\"\"\n",
    "        self.assertTrue(\n",
    "            callable(respuesta_2_10), \"La respuesta debería ser una función.\"\n",
    "        )\n",
    "        instancias = {\n",
    "            (815, 400): 4,\n",
    "            (296, 481): 6,\n",
    "            (303, 536): 6,\n",
    "            (624, 892): 5,\n",
    "            (250, 524): 6,\n",
    "            (954, 561): 6,\n",
    "            (650, 789): 7,\n",
    "            (281, 109): 8,\n",
    "            (980, 944): 4,\n",
    "            (295, 713): 7,\n",
    "        }\n",
    "        for args, cuenta in instancias.items():\n",
    "            with self.subTest(args=args):\n",
    "                self.assertEqual(\n",
    "                    respuesta_2_10(*args),\n",
    "                    cuenta,\n",
    "                    f\"El resultado no es correcto para la entrada {args}.\",\n",
    "                )\n",
    "\n",
    "    def test_respuesta_2_11(self):\n",
    "        \"\"\"Verificando la respuesta 2-11\"\"\"\n",
    "        self.assertIsInstance(\n",
    "            respuesta_2_11,\n",
    "            np.ufunc,\n",
    "            \"La respuesta debería ser una función universal de NumPy.\",\n",
    "        )\n",
    "        self.assertEqual(\n",
    "            respuesta_2_11.nin,\n",
    "            2,\n",
    "            \"La función debería recibir dos argumentos.\",\n",
    "        )\n",
    "        self.assertEqual(\n",
    "            respuesta_2_11.nout,\n",
    "            1,\n",
    "            \"La función debería regresar un solo valor.\",\n",
    "        )\n",
    "        a = np.array([815, 296, 303, 624, 250, 954, 650, 281, 980, 295])\n",
    "        b = np.array([400, 481, 536, 892, 524, 561, 789, 109, 944, 713])\n",
    "        c = np.array([4, 6, 6, 5, 6, 6, 7, 8, 4, 7])\n",
    "        self.assertTrue(\n",
    "            (respuesta_2_11(a, b) == c).all(),\n",
    "            \"La función no regresa los valores esperados.\",\n",
    "        )\n",
    "\n",
    "    def test_respuesta_2_12(self):\n",
    "        \"\"\"Verificando la respuesta 2-12\"\"\"\n",
    "        self.assertIsInstance(\n",
    "            respuesta_2_12,\n",
    "            tuple,\n",
    "            \"La respuesta debería ser una tupla.\",\n",
    "        )\n",
    "        self.assertEqual(\n",
    "            len(respuesta_2_12),\n",
    "            3,\n",
    "            \"La respuesta debería tener tres elementos.\",\n",
    "        )\n",
    "        for i in range(3):\n",
    "            self.assertIsInstance(\n",
    "                respuesta_2_12[i],\n",
    "                np.ndarray,\n",
    "                f\"El elemento {i} de la respuesta debería ser un arreglo de NumPy.\",\n",
    "            )\n",
    "            self.assertEqual(\n",
    "                respuesta_2_12[i].shape,\n",
    "                (100, 100),\n",
    "                \"La forma del arreglo {i} no es correcta.\",\n",
    "            )\n",
    "            self.assertIs(\n",
    "                respuesta_2_12[i].dtype.type,\n",
    "                np.int_,\n",
    "                \"Los arreglos deberían contener enteros.\"\n",
    "                \"¿Quizás se te olvidó convertir la salida de tu función a entero?\",\n",
    "            )\n",
    "        a, b, c = respuesta_2_12\n",
    "        self.assertTrue(\n",
    "            all(a[i, :].tolist() == list(range(100)) for i in range(100)),\n",
    "            \"El arreglo a no tiene los valores esperados.\",\n",
    "        )\n",
    "        self.assertTrue(\n",
    "            all(b[:, j].tolist() == list(range(100)) for j in range(100)),\n",
    "            \"El arreglo b no tiene los valores esperados.\",\n",
    "        )\n",
    "        c_repr = repr(c.tolist()).encode(\"utf8\")\n",
    "        self.assertEqual(\n",
    "            hashlib.sha256(c_repr).hexdigest(),\n",
    "            \"39701bd6629744e60e1ea1aa41a17171e901f56e781d3c7e23671069397f1c54\",\n",
    "            \"El arreglo c no tiene los valores esperados.\",\n",
    "        )\n",
    "\n",
    "    def test_respuesta_3_1(self):\n",
    "        \"\"\"Verificando la respuesta 3-1\"\"\"\n",
    "        fig, ax = respuesta_3_1\n",
    "        lineas = ax.get_lines()\n",
    "        self.assertEqual(\n",
    "            len(lineas),\n",
    "            1,\n",
    "            \"Se esperaba que el gráfico tuviera una sola línea.\",\n",
    "        )\n",
    "        x = lineas[0].get_xdata().tolist()\n",
    "        y = lineas[0].get_ydata().tolist()\n",
    "        self.assertEqual(\n",
    "            len(x),\n",
    "            5,\n",
    "            \"La línea trazada debería tener cinco vértices.\",\n",
    "        )\n",
    "        self.assertTrue(\n",
    "            all(isinstance(v, int) for v in x) and all(isinstance(v, int) for v in y),\n",
    "            \"Los vértices de la línea deberían tener coordenadas enteras.\",\n",
    "        )\n",
    "        self.assertEqual(\n",
    "            x[0], x[1], \"El primer y segundo vértice deberían tener la misma abscisa.\"\n",
    "        )\n",
    "        self.assertEqual(\n",
    "            x[3], x[4], \"El cuarto y quinto vértice deberían tener la misma abscisa.\"\n",
    "        )\n",
    "        self.assertTrue(\n",
    "            x[0] < x[2] < x[4],\n",
    "            \"El vértice del medio debería tener una abscisa intermedia.\",\n",
    "        )\n",
    "        self.assertEqual(\n",
    "            y[0], y[4], \"El primer y último vértice deberían estar a la misma altura.\"\n",
    "        )\n",
    "        self.assertEqual(\n",
    "            y[1],\n",
    "            y[3],\n",
    "            \"El segundo y penúltimo vértice deberían estar a la misma altura.\",\n",
    "        )\n",
    "        self.assertTrue(\n",
    "            y[0] < y[2] < y[1],\n",
    "            \"El vértice del medio debería estar a una altura intermedia.\",\n",
    "        )\n",
    "\n",
    "    def test_respuesta_3_2(self):\n",
    "        \"\"\"Verificando la respuesta 3-2\"\"\"\n",
    "        fig, ax = respuesta_3_2\n",
    "        lineas = ax.get_lines()\n",
    "        self.assertEqual(\n",
    "            len(lineas),\n",
    "            1,\n",
    "            \"Se esperaba que el gráfico tuviera una sola línea.\",\n",
    "        )\n",
    "        linea = lineas[0]\n",
    "        x = linea.get_xdata().tolist()\n",
    "        y = linea.get_ydata().tolist()\n",
    "        self.assertEqual(\n",
    "            linea.get_color(),\n",
    "            \"goldenrod\",\n",
    "            \"El color de la línea no es el esperado.\",\n",
    "        )\n",
    "        self.assertEqual(\n",
    "            linea.get_linewidth(),\n",
    "            5,\n",
    "            \"El ancho de la línea no es el esperado.\",\n",
    "        )\n",
    "        self.assertEqual(\n",
    "            linea.get_label(),\n",
    "            r\"$x \\sin\\left(\\frac{1}{x}\\right) - 1$\",\n",
    "            \"La etiqueta de la línea no es la esperada.\",\n",
    "        )\n",
    "        self.assertEqual(\n",
    "            ax.get_facecolor(),\n",
    "            (0.0, 0.0, 0.0, 1.0),  # Equivalente a \"black\"\n",
    "            \"El fondo del eje no es el esperado.\",\n",
    "        )\n",
    "        self.assertEqual(\n",
    "            ax.get_title(),\n",
    "            \"Batman\",\n",
    "            \"El título del eje no es el esperado.\",\n",
    "        )\n",
    "\n",
    "    def test_respuesta_3_3(self):\n",
    "        \"\"\"Verificando la respuesta 3-3\"\"\"\n",
    "        fig, ax = respuesta_3_3\n",
    "        self.assertEqual(\n",
    "            len(ax.images),\n",
    "            1,\n",
    "            \"Se esperaba que el eje tuviera una sola imagen.\",\n",
    "        )\n",
    "        imagen = ax.images[0]\n",
    "        self.assertEqual(\n",
    "            imagen.get_cmap().name,\n",
    "            \"copper\",\n",
    "            \"El mapa de color de la imagen no es el esperado.\",\n",
    "        )\n",
    "        self.assertFalse(\n",
    "            ax.axison,\n",
    "            \"Los ejes deberían estar apagados.\",\n",
    "        )"
   ]
  },
  {
   "cell_type": "markdown",
   "metadata": {},
   "source": [
    "Para iniciar las pruebas, ejecuta la celda siguiente.\n",
    "\n",
    "- Si alguna de las respuestas es incorrecta, la celda te imprimirá un mensaje de\n",
    "  `FAIL` (falla), junto con una explicación de cuál es el error.\n",
    "- Si la celda produce un `ERROR`, significa que tu código produce un error al\n",
    "  ejecutarse.\n",
    "  Esto es diferente de una falla (*fail*), ya que en este caso tu código no\n",
    "  produce ningún resultado, ya sea correcto o incorrecto.\n",
    "  Si obtienes un error, deberás leer el mensaje de error para corregir tu\n",
    "  respuesta, y quizás sea buena idea usar el comando mágico `%debug` para\n",
    "  investigar qué salió mal.\n",
    "- Por defecto, la celda está configurada para ejecutar todas las pruebas\n",
    "  unitarias.\n",
    "  Si quieres ejecutar solamente una prueba unitaria, cambia el parámetro\n",
    "  `defaultTest` al nombre de la prueba que quieres ejecutar.\n",
    "  Por ejemplo, si quieres ejecutar solamente la prueba unitaria del ejercicio\n",
    "  1.1, el valor de `defaultTest` debería ser `\"TestTarea.test_respuesta_1_1\"`\n",
    "  (entre comillas).\n",
    "- He ajustado el parámetro `verbosity` a 2, lo que significa que la celda te\n",
    "  indicará qué prueba se está ejecutando en cada momento.\n",
    "  Si no quieres ver tantos mensajes, puedes cambiar el valor a 1 para ver\n",
    "  solamente las pruebas que fallaron."
   ]
  },
  {
   "cell_type": "code",
   "execution_count": 41,
   "metadata": {},
   "outputs": [
    {
     "name": "stderr",
     "output_type": "stream",
     "text": [
      "test_respuesta_1_1 (__main__.TestTarea.test_respuesta_1_1)\n",
      "Verificando la respuesta 1-1 ... ok\n",
      "test_respuesta_1_2 (__main__.TestTarea.test_respuesta_1_2)\n",
      "Verificando la respuesta 1-2 ... ok\n",
      "test_respuesta_1_3 (__main__.TestTarea.test_respuesta_1_3)\n",
      "Verificando la respuesta 1-3 ... ok\n",
      "test_respuesta_1_4 (__main__.TestTarea.test_respuesta_1_4)\n",
      "Verificando la respuesta 1-4 ... ok\n",
      "test_respuesta_2_01 (__main__.TestTarea.test_respuesta_2_01)\n",
      "Verificando la respuesta 2-1 ... ok\n",
      "test_respuesta_2_02 (__main__.TestTarea.test_respuesta_2_02)\n",
      "Verificando la respuesta 2-2 ... ok\n",
      "test_respuesta_2_03 (__main__.TestTarea.test_respuesta_2_03)\n",
      "Verificando la respuesta 2-3 ... ok\n",
      "test_respuesta_2_04 (__main__.TestTarea.test_respuesta_2_04)\n",
      "Verificando la respuesta 2-4 ... ok\n",
      "test_respuesta_2_05 (__main__.TestTarea.test_respuesta_2_05)\n",
      "Verificando la respuesta 2-5 ... ok\n",
      "test_respuesta_2_06 (__main__.TestTarea.test_respuesta_2_06)\n",
      "Verificando la respuesta 2-6 ... ok\n",
      "test_respuesta_2_07 (__main__.TestTarea.test_respuesta_2_07)\n",
      "Verificando la respuesta 2-7 ... ok\n",
      "test_respuesta_2_08 (__main__.TestTarea.test_respuesta_2_08)\n",
      "Verificando la respuesta 2-8 ... ok\n",
      "test_respuesta_2_09 (__main__.TestTarea.test_respuesta_2_09)\n",
      "Verificando la respuesta 2-9 ... ok\n",
      "test_respuesta_2_10 (__main__.TestTarea.test_respuesta_2_10)\n",
      "Verificando la respuesta 2-10 ... ok\n",
      "test_respuesta_2_11 (__main__.TestTarea.test_respuesta_2_11)\n",
      "Verificando la respuesta 2-11 ... ok\n",
      "test_respuesta_2_12 (__main__.TestTarea.test_respuesta_2_12)\n",
      "Verificando la respuesta 2-12 ... ok\n",
      "test_respuesta_3_1 (__main__.TestTarea.test_respuesta_3_1)\n",
      "Verificando la respuesta 3-1 ... ok\n",
      "test_respuesta_3_2 (__main__.TestTarea.test_respuesta_3_2)\n",
      "Verificando la respuesta 3-2 ... ok\n",
      "test_respuesta_3_3 (__main__.TestTarea.test_respuesta_3_3)\n",
      "Verificando la respuesta 3-3 ... ok\n",
      "\n",
      "----------------------------------------------------------------------\n",
      "Ran 19 tests in 0.008s\n",
      "\n",
      "OK\n"
     ]
    }
   ],
   "source": [
    "if __name__ == \"__main__\":\n",
    "    unittest.main(argv=[\"\"], defaultTest=\"TestTarea\", verbosity=2, exit=False)"
   ]
  },
  {
   "cell_type": "markdown",
   "metadata": {},
   "source": [
    "## Puntos extras"
   ]
  },
  {
   "cell_type": "markdown",
   "metadata": {},
   "source": [
    "Mira [este video][mccandless] acerca de la visualización de datos y escribe un\n",
    "pequeño ensayo de ~500 palabras que aborde las siguientes preguntas:\n",
    "\n",
    "[mccandless]: https://www.ted.com/talks/david_mccandless_the_beauty_of_data_visualization?subtitle=es\n",
    "\n",
    "\n",
    "1. ¿Cuál crees que es el problema más frecuente y/o problemático de los que\n",
    "   menciona el ponente?\n",
    "2. ¿Es verdad que “*ahora todos somos visualizadores; todos exigimos un aspecto\n",
    "   visual a nuestra información*”?\n",
    "3. ¿Qué opinas de la simplificación de la información que propone McCandless?\n",
    "   ¿Es siempre una buena idea simplificar la información?\n",
    "4. ¿Qué opinas de la visualización de datos como una forma de arte?"
   ]
  },
  {
   "cell_type": "markdown",
   "metadata": {},
   "source": [
    "## 1. ¿Cuál crees que es el problema más frecuente y/o problemático de los que menciona el ponente?\n",
    "El principal problema del que habla David McCandless es que nos estamos ahogando en inf. Todos los días recibimos muchísimos datos procedentes de varios lados: correos electrónicos, redes sociales, noticias... lo que dificulta saber qué es importante y qué no. Todo esto puede dejarnos confundidos, indecisos y perdidos. McCandless cree que convertir todas esas cifras y datos en atractivos elementos visuales, como gráficos o infografías, y que esto puede ayudarnos a ver el panorama general, captar los patrones que importan y dar sentido al caos."
   ]
  },
  {
   "cell_type": "markdown",
   "metadata": {},
   "source": [
    "## 2. ¿Es verdad que “*ahora todos somos visualizadores; todos exigimos un aspecto visual a nuestra información*”?\n",
    "Sí, según McCandless, sí. Cuando la información se convierte en imágenes o gráficos, se entiende más rápido. Nuestros cerebros están preparados para procesar imágenes de forma rápida y eficaz, así que tiene sentido que la gente se incline más por la información visual. No es sólo una preferencia de algunos, sino que se está convirtiendo en \"la nueva normalidad\". Ya se trate de infografías, periodismo de datos o esos atractivos elementos visuales de Instagram, está claro que todos estamos enganchando a las formas visuales de aprender y compartir información."
   ]
  },
  {
   "cell_type": "markdown",
   "metadata": {},
   "source": [
    "## 3. ¿Qué opinas de la simplificación de la información que propone McCandless? ¿Es siempre una buena idea simplificar la información?\n",
    "Yo opino que McCandless tiene toda la razón en que la información complejase puede simplificar mediante imágenes, al final del día, desde siempre ha existido el dicho de \"una imagen dice más que mil palabras\". Sin duda puede ayudar a más gente a entender lo esencial de las cosas sin perderse en los detalles. Pero, como ha dicho, no es una solución universal. A veces, una simplificación excesiva puede hacer que se pierdan detalles o matices importantes que aportan la historia completa, el contexto es clave. Se trata de encontrar el equilibrio adecuado: mantener las cosas lo bastante sencillas para que sean accesibles, pero lo bastante detalladas para que sigan siendo precisas y significativas. Sí, la simplificación está bien, pero no podemos perdir el ."
   ]
  },
  {
   "cell_type": "markdown",
   "metadata": {},
   "source": [
    "## 4. ¿Qué opinas de la visualización de datos como una forma de arte?\n",
    "Yo amo el arte, y creo que el arte desde siempre ha tenido información dentro de ella, solo que ahora existe el área más definida de las visualizaciones de datos. Nadie puede decir que, por ejemplo, una visialización de cómo se ven ciertas células no es hermosa. Si lo pensamos, en realidad se necesita MUCHÍSIMA creatividad para convertir datos aburridos y difíciles de entender en algo visualmente atractivo y que de verdad pueda representarlo. La elección de los colores, la presentación de la información, el diseño... todo ello requiere creativudad. Y, al igual que el arte, estos elementos visuales pueden contar historias, evocar emociones y ofrecernos nuevas perspectivas. Es una mezcla radical de ciencia y creatividad, en la que los datos no son sólo números en una página, sino un lienzo para contar historias y aportar ideas, y yo AMO esa intersección. Así que, sí, la visualización de datos es definitivamente una forma de arte por derecho propio."
   ]
  },
  {
   "cell_type": "markdown",
   "metadata": {},
   "source": [
    "**Respuesta**:"
   ]
  }
 ],
 "metadata": {
  "kernelspec": {
   "display_name": ".venv",
   "language": "python",
   "name": "python3"
  },
  "language_info": {
   "codemirror_mode": {
    "name": "ipython",
    "version": 3
   },
   "file_extension": ".py",
   "mimetype": "text/x-python",
   "name": "python",
   "nbconvert_exporter": "python",
   "pygments_lexer": "ipython3",
   "version": "3.11.7"
  }
 },
 "nbformat": 4,
 "nbformat_minor": 2
}

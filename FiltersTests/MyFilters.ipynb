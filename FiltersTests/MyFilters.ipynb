{
 "cells": [
  {
   "cell_type": "code",
   "execution_count": null,
   "metadata": {},
   "outputs": [],
   "source": [
    "import skimage as ski\n",
    "import numpy as np"
   ]
  },
  {
   "cell_type": "code",
   "execution_count": null,
   "metadata": {},
   "outputs": [],
   "source": [
    "# Blurring\n",
    "overrideSaveBlurred = False\n",
    "blurredFolder = \"BlurredTests\"\n",
    "\n",
    "# Granulated Displacement\n",
    "overrideSaveGranulatedDisplacement = False\n",
    "granulatedDisplacementFolder = \"GranulatedDisplacementTests\""
   ]
  },
  {
   "cell_type": "code",
   "execution_count": null,
   "metadata": {},
   "outputs": [],
   "source": [
    "flowers1 = \"TestImages/FlowersVase1.jpeg\"\n",
    "\n",
    "# Cargar y mostrar una imagen con Scikit-Image\n",
    "img = ski.io.imread(flowers1)\n",
    "ski.io.imshow(img)"
   ]
  },
  {
   "cell_type": "code",
   "execution_count": null,
   "metadata": {},
   "outputs": [],
   "source": [
    "from scipy.ndimage.filters import uniform_filter\n",
    "\n",
    "def blurringFilter(img, radius, iterations, saveImage = False):\n",
    "    global blurredFolder, overrideSaveBlurred\n",
    "    imgFloat = img.astype(float)\n",
    "    for _ in range(iterations):\n",
    "        # Apply the uniform filter to calculate the average of the surrounding pixels\n",
    "        imgFloat = uniform_filter(imgFloat, size=(2 * radius + 1, 2 * radius + 1, 1))\n",
    "\n",
    "    # Convert the average image back to uint8\n",
    "    resultingImage = imgFloat.astype(np.uint8)\n",
    "\n",
    "    outputPath = f\"BlurredRadius{radius}Iter{iterations}.jpeg\"\n",
    "    if overrideSaveBlurred and saveImage: ski.io.imsave(f\"./{blurredFolder}/{outputPath}\", resultingImage)\n",
    "    \n",
    "    return resultingImage"
   ]
  },
  {
   "cell_type": "code",
   "execution_count": null,
   "metadata": {},
   "outputs": [],
   "source": [
    "# Load the image\n",
    "img = ski.io.imread(flowers1)\n",
    "print(\"Original Image\")\n",
    "ski.io.imshow(img)"
   ]
  },
  {
   "cell_type": "code",
   "execution_count": null,
   "metadata": {},
   "outputs": [],
   "source": [
    "# Establishing a baseline\n",
    "radius = 3\n",
    "iterations = 1\n",
    "filteredImg = blurringFilter(img, radius, iterations, saveImage = True)\n",
    "\n",
    "print(f\"Changed images with radius {radius} and iterations {iterations}\")\n",
    "ski.io.imshow(filteredImg)"
   ]
  },
  {
   "cell_type": "code",
   "execution_count": null,
   "metadata": {},
   "outputs": [],
   "source": [
    "radius = 3\n",
    "iterations = 5\n",
    "filteredImg = blurringFilter(img, radius, iterations, saveImage = True)\n",
    "\n",
    "print(f\"Changed images with radius {radius} and iterations {iterations}\")\n",
    "ski.io.imshow(filteredImg)"
   ]
  },
  {
   "cell_type": "code",
   "execution_count": null,
   "metadata": {},
   "outputs": [],
   "source": [
    "radius = 3\n",
    "iterations = 100\n",
    "filteredImg = blurringFilter(img, radius, iterations, saveImage = True)\n",
    "\n",
    "print(f\"Changed images with radius {radius} and iterations {iterations}\")\n",
    "ski.io.imshow(filteredImg)"
   ]
  },
  {
   "cell_type": "code",
   "execution_count": null,
   "metadata": {},
   "outputs": [],
   "source": [
    "radius = 10\n",
    "iterations = 1\n",
    "filteredImg = blurringFilter(img, radius, iterations, saveImage = True)\n",
    "\n",
    "print(f\"Changed images with radius {radius} and iterations {iterations}\")\n",
    "ski.io.imshow(filteredImg)"
   ]
  },
  {
   "cell_type": "code",
   "execution_count": null,
   "metadata": {},
   "outputs": [],
   "source": [
    "radius = 10\n",
    "iterations = 5\n",
    "filteredImg = blurringFilter(img, radius, iterations, saveImage = True)\n",
    "\n",
    "print(f\"Changed images with radius {radius} and iterations {iterations}\")\n",
    "ski.io.imshow(filteredImg)"
   ]
  },
  {
   "cell_type": "code",
   "execution_count": null,
   "metadata": {},
   "outputs": [],
   "source": [
    "# Define the radius\n",
    "radius = 100\n",
    "iterations = 5\n",
    "filteredImg = blurringFilter(img, radius, iterations, saveImage = True)\n",
    "\n",
    "print(f\"Changed images with radius {radius} and iterations {iterations}\")\n",
    "ski.io.imshow(filteredImg)"
   ]
  },
  {
   "cell_type": "code",
   "execution_count": null,
   "metadata": {},
   "outputs": [],
   "source": [
    "import cv2\n",
    "import numpy as np\n",
    "import random\n",
    "\n",
    "def granulatedDisplacementFilter(imagePath, outputPath, displacement = 5, saveImage = False):\n",
    "    global overrideSaveGranulatedDisplacement, granulatedDisplacementFolder\n",
    "    # Load the image using OpenCV\n",
    "    img = cv2.imread(imagePath)\n",
    "    height, width, _ = img.shape\n",
    "    \n",
    "    # Output image with the same size but initially black\n",
    "    outputImg = np.zeros_like(img)\n",
    "    \n",
    "    # Iterate through each pixel in the image\n",
    "    for y in range(height):\n",
    "        for x in range(width):\n",
    "            # Generate random displacement\n",
    "            dx = random.randint(-displacement, displacement)\n",
    "            dy = random.randint(-displacement, displacement)\n",
    "            \n",
    "            # Ensure new coordinates are within image bounds\n",
    "            new_x = min(max(x + dx, 0), width - 1)\n",
    "            new_y = min(max(y + dy, 0), height - 1)\n",
    "            \n",
    "            # Copy the pixel color to the new position in the output image\n",
    "            outputImg[new_y, new_x] = img[y, x]\n",
    "    \n",
    "    print(\"Override = \", overrideSaveGranulatedDisplacement, \"Save = \", saveImage, \"OutputPath = \", f\"./{granulatedDisplacementFolder}/{outputPath}\")\n",
    "    # Save the output image using OpenCV\n",
    "    if overrideSaveGranulatedDisplacement and saveImage: cv2.imwrite(f\"{granulatedDisplacementFolder}/{outputPath}\", outputImg)\n",
    "    print(f\"Granulated Image, displacement = {displacement}\")\n",
    "    ski.io.imshow(outputImg)\n"
   ]
  },
  {
   "cell_type": "code",
   "execution_count": null,
   "metadata": {},
   "outputs": [],
   "source": [
    "displacement = 1\n",
    "granulatedDisplacementFilter(flowers1, f\"GranulatedDisplacement{displacement}.jpg\", displacement = displacement, saveImage = True)"
   ]
  },
  {
   "cell_type": "code",
   "execution_count": null,
   "metadata": {},
   "outputs": [],
   "source": [
    "displacement = 5\n",
    "granulatedDisplacementFilter(flowers1, f\"GranulatedDisplacement{displacement}.jpg\", displacement = displacement, saveImage = True)"
   ]
  },
  {
   "cell_type": "code",
   "execution_count": null,
   "metadata": {},
   "outputs": [],
   "source": [
    "displacement = 20\n",
    "granulatedDisplacementFilter(flowers1, f\"GranulatedDisplacement{displacement}.jpg\", displacement = displacement, saveImage = True)"
   ]
  },
  {
   "cell_type": "code",
   "execution_count": null,
   "metadata": {},
   "outputs": [],
   "source": [
    "displacement = 200\n",
    "granulatedDisplacementFilter(flowers1, f\"GranulatedDisplacement{displacement}.jpg\", displacement = displacement, saveImage = True)"
   ]
  },
  {
   "cell_type": "code",
   "execution_count": null,
   "metadata": {},
   "outputs": [],
   "source": [
    "displacement = 2000\n",
    "granulatedDisplacementFilter(flowers1, f\"GranulatedDisplacement{displacement}.jpg\", displacement = displacement, saveImage = True)"
   ]
  }
 ],
 "metadata": {
  "kernelspec": {
   "display_name": "ImageProcessing",
   "language": "python",
   "name": "python3"
  },
  "language_info": {
   "codemirror_mode": {
    "name": "ipython",
    "version": 3
   },
   "file_extension": ".py",
   "mimetype": "text/x-python",
   "name": "python",
   "nbconvert_exporter": "python",
   "pygments_lexer": "ipython3",
   "version": "3.11.7"
  }
 },
 "nbformat": 4,
 "nbformat_minor": 2
}
